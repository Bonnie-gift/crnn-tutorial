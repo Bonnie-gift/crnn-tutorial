{
 "cells": [
  {
   "cell_type": "markdown",
   "metadata": {
    "slideshow": {
     "slide_type": "slide"
    }
   },
   "source": [
    "# <center> __Deep Learning__ <br/> <br/><br/>\n",
    "# <center> учим машину распознaвать текст"
   ]
  },
  {
   "cell_type": "markdown",
   "metadata": {
    "slideshow": {
     "slide_type": "slide"
    }
   },
   "source": [
    "## <center> Атабек Дулат - Machine Learning Engineer в Kolesa Group\n",
    "<br/><br/>\n",
    "### <center> Опыт работы: работал в Нацбанке РК и BTSD\n",
    "<br/><br/>\n",
    "### <center> Гитхаб с презентацией и кодом обучения сетки : \n",
    "###    <center> https://github.com/carnotaur/crnn-tutorial"
   ]
  },
  {
   "cell_type": "markdown",
   "metadata": {
    "slideshow": {
     "slide_type": "subslide"
    }
   },
   "source": [
    "# <center> __План:__\n",
    "<br/><br/>\n",
    "##  1. Быстрый обзор методов распознавания\n",
    "##  2. __CRNN__ - What it is?\n",
    "## 3. Попытка в 'простое' обьяснение __CNN__\n",
    "## 4. Попытка(но хуже) в обьяснение __RNN__\n",
    "## 5. Back to the CRNN\n",
    "## 6. Распознаем капчу и показываю модель"
   ]
  },
  {
   "cell_type": "markdown",
   "metadata": {
    "slideshow": {
     "slide_type": "slide"
    }
   },
   "source": [
    "### <center> Задача - Optical Character Recognition a.k.a __OCR__\n",
    "<center> <img src=\"imgs/ocr_working.gif\" width=1800>"
   ]
  },
  {
   "cell_type": "markdown",
   "metadata": {
    "slideshow": {
     "slide_type": "subslide"
    }
   },
   "source": [
    "## <center> Распознавание текста можно разделить на 2 этапа: \n",
    "<br/><br/>\n",
    "###  <center> - Определение местоположение текста (Text Detection)\n",
    "###  <center> - Распознавание текста (OCR)\n",
    "<br/><br/>\n",
    "<center> <img src=\"imgs/ocr-types.png\" width=1600>"
   ]
  },
  {
   "cell_type": "markdown",
   "metadata": {
    "slideshow": {
     "slide_type": "subslide"
    }
   },
   "source": [
    "## <center>  Как было раньше:\n",
    "<br/><br/>\n",
    "<center> <img src=\"imgs/oldway.png\" width=1000>"
   ]
  },
  {
   "cell_type": "markdown",
   "metadata": {
    "slideshow": {
     "slide_type": "slide"
    }
   },
   "source": [
    "# <center> Эра __\"Глубокого Обучения\"__ поменяло все"
   ]
  },
  {
   "cell_type": "markdown",
   "metadata": {
    "slideshow": {
     "slide_type": "subslide"
    }
   },
   "source": [
    "## <center> Зоопарк recongition моделей\n",
    "<br/><br/><br/>\n",
    "<center> <img src=\"imgs/recongition_types.png\" width=2600>"
   ]
  },
  {
   "cell_type": "markdown",
   "metadata": {
    "slideshow": {
     "slide_type": "subslide"
    }
   },
   "source": [
    "## <center> Convolutional Recurrent Neural Network (CRNN)\n",
    "<br/><br/><br/>\n",
    "<center> <img src=\"imgs/crnn-archit.png\" width=1000>"
   ]
  },
  {
   "cell_type": "markdown",
   "metadata": {
    "slideshow": {
     "slide_type": "slide"
    }
   },
   "source": [
    "# <center> __Convolutions__ a.k.a Свертки - Как они работают? \n",
    "<br/><br/><br/>\n",
    "<center> <img src=\"imgs/img_pixels.png\"  width=1500>"
   ]
  },
  {
   "cell_type": "markdown",
   "metadata": {
    "slideshow": {
     "slide_type": "subslide"
    }
   },
   "source": [
    "## <center> Принцип работы сверток \n",
    "<br/><br/><br/>\n",
    "<center> <img src=\"imgs/kernels.png\" width=1500>"
   ]
  },
  {
   "cell_type": "markdown",
   "metadata": {
    "slideshow": {
     "slide_type": "subslide"
    }
   },
   "source": [
    "## <center> Принцип работы сверток \n",
    "<br/><br/><br/>\n",
    "\n",
    "<center> <img src=\"imgs/3D_Convolution_Animation.gif\" height=1200 width=1200>"
   ]
  },
  {
   "cell_type": "markdown",
   "metadata": {
    "slideshow": {
     "slide_type": "subslide"
    }
   },
   "source": [
    "## <center> Свертки способны выучить очень сложные признаки <br/><br/>\n",
    "\n",
    "<center> <img src=\"imgs/cnn-feaures.png\" width=1800>"
   ]
  },
  {
   "cell_type": "markdown",
   "metadata": {
    "slideshow": {
     "slide_type": "slide"
    }
   },
   "source": [
    "# <center> __Recurrent Neural Network (RNN)__  - Вторая часть уравнения"
   ]
  },
  {
   "cell_type": "markdown",
   "metadata": {
    "slideshow": {
     "slide_type": "subslide"
    }
   },
   "source": [
    "## <center>  __RNN__ - отлично подходят для работы с sequences\n",
    "<center> <img src=\"imgs/rnn-works.png\">"
   ]
  },
  {
   "cell_type": "markdown",
   "metadata": {
    "slideshow": {
     "slide_type": "subslide"
    }
   },
   "source": [
    "## <center> Как работает один блок RNN\n",
    "<br/><br/>\n",
    "<center> <img src=\"imgs/one_block.png\"  width=1500>"
   ]
  },
  {
   "cell_type": "markdown",
   "metadata": {
    "slideshow": {
     "slide_type": "subslide"
    }
   },
   "source": [
    "## <center> Каждый блок имеет общую матрицу весов $W$ \n",
    "<br/><br/><br/><br/>\n",
    "\n",
    "<center> <img src='imgs/several blocks.png' width=1500>"
   ]
  },
  {
   "cell_type": "markdown",
   "metadata": {
    "slideshow": {
     "slide_type": "slide"
    }
   },
   "source": [
    "# <center> Вернемся к __CRNN__"
   ]
  },
  {
   "cell_type": "markdown",
   "metadata": {
    "slideshow": {
     "slide_type": "subslide"
    }
   },
   "source": [
    "## <center> Convolutional Recurrent Neural Network (CRNN) \n",
    "<br/><br/>\n",
    "<center> <img src=\"imgs/crnn-archit.png\" width=900>"
   ]
  },
  {
   "cell_type": "markdown",
   "metadata": {
    "slideshow": {
     "slide_type": "subslide"
    }
   },
   "source": [
    "## <center> Переход от image features к sequences\n",
    "<center> <img src=\"imgs/features-seq.png\" width=1500>"
   ]
  },
  {
   "cell_type": "markdown",
   "metadata": {
    "slideshow": {
     "slide_type": "subslide"
    }
   },
   "source": [
    "## <center> Зачем использовать __RNN__ ? <br/><br/>\n",
    "\n",
    "## 1. Возможность комбинировать информацию с нескольких receptive fields для сохранения __контекста__\n",
    "## 2. По сравнению с прошлыми решениями RNN могут обучаться с помощью __back-propagation__ и могут обучаться сразу СNN и RNN\n",
    "## 3. RNN работает на последовательнастях c __различной__ длиной"
   ]
  },
  {
   "cell_type": "markdown",
   "metadata": {
    "slideshow": {
     "slide_type": "subslide"
    }
   },
   "source": [
    "## <center> __LSTM__ вместо обычного __RNN__\n",
    "<br/><br/><br/><br/>\n",
    "<center> <img src='imgs/lstm.png' width=1800>"
   ]
  },
  {
   "cell_type": "markdown",
   "metadata": {
    "slideshow": {
     "slide_type": "subslide"
    }
   },
   "source": [
    "## <center> __Connectionist Temporal Classification (CTC)__ <br/><br/>\n",
    "\n",
    "  ### <center> $P(L / Y)$, где\n",
    "  ### <center> $L$ - label sequence, предсказываемый текст\n",
    "### <center> $Y$ per-frame предсказания модели"
   ]
  },
  {
   "cell_type": "markdown",
   "metadata": {
    "slideshow": {
     "slide_type": "subslide"
    }
   },
   "source": [
    "## <center> __СTC__ позволяет тренировать сеть используя __Negative Log Likeilihood Loss (NLLL)__"
   ]
  },
  {
   "cell_type": "code",
   "execution_count": null,
   "metadata": {
    "slideshow": {
     "slide_type": "slide"
    }
   },
   "outputs": [],
   "source": [
    "import string\n",
    "import torch\n",
    "import torch.nn as nn\n",
    "import torch.nn.functional as F\n",
    "from torchvision.models import resnet18\n",
    "import numpy as np\n",
    "import matplotlib.pyplot as plt\n",
    "from PIL import Image\n",
    "from layers import blockCNN, blockRNN\n",
    "from utils.utils import strLabelConverter, decode_prediction"
   ]
  },
  {
   "cell_type": "code",
   "execution_count": null,
   "metadata": {
    "slideshow": {
     "slide_type": "subslide"
    }
   },
   "outputs": [],
   "source": [
    "class CRNN(nn.Module):\n",
    "    def __init__(self, hidden_size: int, \n",
    "                 vocab_size: int, \n",
    "                 bidirectional: bool = True, \n",
    "                 dropout: float = 0.5):\n",
    "        super(CRNN, self).__init__()\n",
    "        # layers\n",
    "        resnet = resnet18(pretrained=True)\n",
    "        modules = list(resnet.children())[:-3]\n",
    "        self.resnet = nn.Sequential(*modules)\n",
    "        self.cn6 = blockCNN(256, 256, kernel_size=3, padding=1)\n",
    "        # RNN + Linear\n",
    "        self.linear1 = nn.Linear(1024, 256)\n",
    "        self.gru1 = blockRNN(256, hidden_size, hidden_size, dropout=dropout, \n",
    "                             bidirectional=bidirectional)\n",
    "        self.gru2 = blockRNN(hidden_size, hidden_size, vocab_size, dropout=dropout,\n",
    "                             bidirectional=bidirectional)\n",
    "        self.linear2 = nn.Linear(hidden_size * 2, vocab_size)\n",
    "        \n",
    "    def forward(self, batch: torch.Tensor): \n",
    "        batch_size = batch.size(0)\n",
    "        # convolutions\n",
    "        batch = self.resnet(batch)\n",
    "        batch = self.cn6(batch, use_relu=True, use_bn=True)\n",
    "        # make sequences of image features\n",
    "        batch = batch.permute(0, 3, 1, 2)\n",
    "        n_channels = batch.size(1)\n",
    "        batch = batch.view(batch_size, n_channels, -1)\n",
    "        batch = self.linear1(batch)\n",
    "        # rnn layers\n",
    "        batch = self.gru1(batch, add_output=True)\n",
    "        batch = self.gru2(batch)\n",
    "        # output\n",
    "        batch = self.linear2(batch)\n",
    "        batch = batch.permute(1, 0, 2)\n",
    "        return batch"
   ]
  },
  {
   "cell_type": "code",
   "execution_count": null,
   "metadata": {
    "slideshow": {
     "slide_type": "slide"
    }
   },
   "outputs": [],
   "source": [
    "alphabet = string.ascii_lowercase + string.digits #все возможные буквы в капче\n",
    "label_converter = strLabelConverter(alphabet) #энкодер надписей\n",
    "print(alphabet)\n",
    "hidden_size = 256\n",
    "vocab_size = len(alphabet) + 1 # один дополнительный слот для 'blank' знака\n",
    "bidirectional = True\n",
    "PATH = 'models/crnn.pt'\n",
    "\n",
    "crnn = CRNN(hidden_size=hidden_size, vocab_size=vocab_size, bidirectional=bidirectional)\n",
    "crnn.load_state_dict(torch.load(PATH))"
   ]
  },
  {
   "cell_type": "code",
   "execution_count": null,
   "metadata": {
    "slideshow": {
     "slide_type": "subslide"
    }
   },
   "outputs": [],
   "source": [
    "crnn"
   ]
  },
  {
   "cell_type": "code",
   "execution_count": null,
   "metadata": {
    "slideshow": {
     "slide_type": "subslide"
    }
   },
   "outputs": [],
   "source": [
    "SAMPLE_PATH = 'data/sample/2b827.png'\n",
    "# load image \n",
    "img_array = np.asarray(Image.open(SAMPLE_PATH).convert('RGB'))\n",
    "# convert to tensor\n",
    "img_tensor = torch.from_numpy(img_array / 255.)\n",
    "img_tensor = img_tensor.permute(2, 0, 1).unsqueeze(0).to(torch.float32)\n",
    "\n",
    "descr_list = ['batch size', 'num of channels', 'height', 'width']\n",
    "for descr, s in zip(descr_list, img_tensor.size()):\n",
    "    print('%s : %s' % (descr, s))"
   ]
  },
  {
   "cell_type": "code",
   "execution_count": null,
   "metadata": {
    "slideshow": {
     "slide_type": "subslide"
    }
   },
   "outputs": [],
   "source": [
    "logits = crnn(img_tensor)"
   ]
  },
  {
   "cell_type": "code",
   "execution_count": null,
   "metadata": {
    "slideshow": {
     "slide_type": "subslide"
    }
   },
   "outputs": [],
   "source": [
    "descr_list = ['max seq len', 'batch size', 'vocab size']\n",
    "for descr, s in zip(descr_list, logits.size()):\n",
    "    print('%s : %s' % (descr, s))"
   ]
  },
  {
   "cell_type": "code",
   "execution_count": null,
   "metadata": {},
   "outputs": [],
   "source": [
    "pred = decode_prediction(logits, label_converter)\n",
    "plt.figure(figsize=(15, 20))\n",
    "plt.title(pred, fontsize=40)\n",
    "plt.imshow(img_array)\n",
    "plt.axis('off');"
   ]
  },
  {
   "cell_type": "markdown",
   "metadata": {
    "slideshow": {
     "slide_type": "slide"
    }
   },
   "source": [
    "# <center> -  Гитхаб с презентацией и кодом обучения сетки :  \n",
    "# <center> - https://github.com/carnotaur/crnn-tutorial  \n",
    "# <center>\n",
    "# <center> - Ссылка на мой linkedin:\n",
    "# <center> - www.linkedin.com/in/dulatatabek\n",
    "# <center>\n",
    "# <center> - Вопросы по презентации можете посылать:\n",
    "# <center> - predator2013@protonmail.com\n",
    "    "
   ]
  }
 ],
 "metadata": {
  "celltoolbar": "Slideshow",
  "kernelspec": {
   "display_name": "Python 3",
   "language": "python",
   "name": "python3"
  },
  "language_info": {
   "codemirror_mode": {
    "name": "ipython",
    "version": 3
   },
   "file_extension": ".py",
   "mimetype": "text/x-python",
   "name": "python",
   "nbconvert_exporter": "python",
   "pygments_lexer": "ipython3",
   "version": "3.7.1"
  }
 },
 "nbformat": 4,
 "nbformat_minor": 2
}
