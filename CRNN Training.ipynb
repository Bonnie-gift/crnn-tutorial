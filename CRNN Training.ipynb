{
 "cells": [
  {
   "cell_type": "code",
   "execution_count": 1,
   "metadata": {},
   "outputs": [],
   "source": [
    "import glob\n",
    "import os \n",
    "import string\n",
    "from PIL import Image\n",
    "import numpy as np\n",
    "import torch\n",
    "import torch.nn as nn\n",
    "import torch.nn.functional as F\n",
    "from torch.utils.data import DataLoader, Dataset\n",
    "from torchvision import transforms\n",
    "from torchvision.models import resnet18\n",
    "import matplotlib.pyplot as plt\n",
    "from utils import strLabelConverter, plot_loss"
   ]
  },
  {
   "cell_type": "code",
   "execution_count": 2,
   "metadata": {},
   "outputs": [],
   "source": [
    "device = torch.device('cuda' if torch.cuda.is_available() else 'cpu')"
   ]
  },
  {
   "cell_type": "code",
   "execution_count": 3,
   "metadata": {},
   "outputs": [],
   "source": [
    "%matplotlib inline\n",
    "plt.style.use('seaborn')"
   ]
  },
  {
   "cell_type": "code",
   "execution_count": 4,
   "metadata": {},
   "outputs": [],
   "source": [
    "def decode_prediction(logits: torch.Tensor, \n",
    "                      label_converter: strLabelConverter) -> str:\n",
    "    tokens = logits.softmax(2).argmax(2)\n",
    "    tokens = tokens.squeeze(1).numpy()\n",
    "    \n",
    "    # convert tor stings tokens\n",
    "    tokens = ''.join([label_converter.idx2char[token] \n",
    "                      if token != 0  else '-' \n",
    "                      for token in tokens])\n",
    "    tokens = tokens.split('-')\n",
    "    \n",
    "    # remove duplicates\n",
    "    text = [char \n",
    "            for batch_token in tokens \n",
    "            for idx, char in enumerate(batch_token)\n",
    "            if char != batch_token[idx-1] or len(batch_token) == 1]\n",
    "    text = ''.join(text)\n",
    "    return text"
   ]
  },
  {
   "cell_type": "code",
   "execution_count": 40,
   "metadata": {},
   "outputs": [],
   "source": [
    "def print_prediction(model, dataset):\n",
    "    idx = np.random.randint(len(dataset))\n",
    "    path = dataset.pathes[idx]\n",
    "    \n",
    "    with torch.no_grad():\n",
    "        model.eval()\n",
    "        img, target_text = dataset[idx]\n",
    "        img = img.unsqueeze(0)\n",
    "        logits = model(img.to(device))\n",
    "        \n",
    "    pred_text = decode_prediction(logits.cpu(), label_converter)\n",
    "    img = np.asarray(Image.open(path).convert('L'))\n",
    "    title = f'Truth: {target_text} | Pred: {pred_text}'\n",
    "    plt.imshow(img)\n",
    "    plt.title(title)\n",
    "    plt.axis('off');"
   ]
  },
  {
   "cell_type": "markdown",
   "metadata": {},
   "source": [
    "#### <center>  Dataset"
   ]
  },
  {
   "cell_type": "code",
   "execution_count": 6,
   "metadata": {},
   "outputs": [],
   "source": [
    "class CaptchaDataset(Dataset):\n",
    "    def __init__(self, img_dir: str):\n",
    "        self.img_dir = img_dir\n",
    "        pathes = os.listdir(img_dir)\n",
    "        abspath = os.path.abspath(img_dir)\n",
    "        self.pathes = [os.path.join(abspath, path) for path in pathes]\n",
    "        self.list_transforms = transforms.Compose([transforms.Resize([224, 224]), \n",
    "                                                   transforms.ToTensor()])\n",
    "        \n",
    "    def __len__(self):\n",
    "        return len(self.pathes)\n",
    "    \n",
    "    def __getitem__(self, idx):\n",
    "        path = self.pathes[idx]\n",
    "        text = self.get_filename(path)\n",
    "        img = Image.open(path).convert('RGB')\n",
    "        img = self.transform(img)\n",
    "        return img, text\n",
    "    \n",
    "    def get_filename(self, path: str) -> str:\n",
    "        return os.path.basename(path).split('.')[0].lower().strip()\n",
    "    \n",
    "    def transform(self, img) -> torch.Tensor:\n",
    "        return self.list_transforms(img)"
   ]
  },
  {
   "cell_type": "markdown",
   "metadata": {},
   "source": [
    "Dataset Params"
   ]
  },
  {
   "cell_type": "code",
   "execution_count": 7,
   "metadata": {},
   "outputs": [],
   "source": [
    "train_dir = 'data/train'\n",
    "val_dir = 'data/val'\n",
    "batch_size = 8\n",
    "num_workers = 4"
   ]
  },
  {
   "cell_type": "code",
   "execution_count": 8,
   "metadata": {},
   "outputs": [
    {
     "data": {
      "text/plain": [
       "'abcdefghijklmnopqrstuvwxyz0123456789'"
      ]
     },
     "execution_count": 8,
     "metadata": {},
     "output_type": "execute_result"
    }
   ],
   "source": [
    "alphabet = string.ascii_lowercase + string.digits\n",
    "label_converter = strLabelConverter(alphabet)\n",
    "alphabet"
   ]
  },
  {
   "cell_type": "code",
   "execution_count": 9,
   "metadata": {},
   "outputs": [],
   "source": [
    "train_dataset = CaptchaDataset(train_dir)\n",
    "val_dataset = CaptchaDataset(val_dir)\n",
    "train_dataloader = DataLoader(train_dataset, batch_size=batch_size, \n",
    "                              num_workers=num_workers, shuffle=True)\n",
    "val_dataloader = DataLoader(val_dataset, batch_size=batch_size, \n",
    "                            num_workers=num_workers, shuffle=False)"
   ]
  },
  {
   "cell_type": "code",
   "execution_count": 10,
   "metadata": {},
   "outputs": [
    {
     "name": "stdout",
     "output_type": "stream",
     "text": [
      "torch.Size([8, 3, 224, 224]) 8\n"
     ]
    }
   ],
   "source": [
    "imgs, texts = iter(val_dataloader).next()\n",
    "print(imgs.shape, len(texts))"
   ]
  },
  {
   "cell_type": "markdown",
   "metadata": {},
   "source": [
    "#### <center> Model"
   ]
  },
  {
   "cell_type": "code",
   "execution_count": 11,
   "metadata": {},
   "outputs": [],
   "source": [
    "def weights_init(m):\n",
    "    classname = m.__class__.__name__\n",
    "    if type(m) in [nn.Linear, nn.Conv2d, nn.Conv1d]:\n",
    "        torch.nn.init.xavier_uniform_(m.weight)\n",
    "        m.bias.data.fill_(0.01)\n",
    "    elif classname.find('BatchNorm') != -1:\n",
    "        m.weight.data.normal_(1.0, 0.02)\n",
    "        m.bias.data.fill_(0)"
   ]
  },
  {
   "cell_type": "code",
   "execution_count": 12,
   "metadata": {},
   "outputs": [],
   "source": [
    "class blockCNN(nn.Module):\n",
    "    def __init__(self, in_nc, out_nc, kernel_size, padding, stride=1):\n",
    "        super(blockCNN, self).__init__()\n",
    "        self.in_nc = in_nc\n",
    "        self.out_nc = out_nc\n",
    "        self.kernel_size = kernel_size\n",
    "        self.padding = padding\n",
    "        # layers\n",
    "        self.conv = nn.Conv2d(in_nc, out_nc, \n",
    "                              kernel_size=kernel_size, \n",
    "                              stride=stride, \n",
    "                              padding=padding)\n",
    "        self.bn = nn.BatchNorm2d(out_nc)\n",
    "        \n",
    "    def forward(self, batch, use_bn=False, use_relu=False, \n",
    "                use_maxpool=False, maxpool_kernelsize=None):\n",
    "        \"\"\"\n",
    "            in:\n",
    "                batch - [batch_size, in_nc, H, W]\n",
    "            out:\n",
    "                batch - [batch_size, out_nc, H', W']\n",
    "        \"\"\"\n",
    "        batch = self.conv(batch)\n",
    "        if use_bn:\n",
    "            batch = self.bn(batch)\n",
    "        if use_relu:\n",
    "            batch = F.relu(batch)\n",
    "        if use_maxpool:\n",
    "            assert maxpool_kernelsize is not None\n",
    "            batch = F.max_pool2d(batch, kernel_size=maxpool_kernelsize, stride=2)\n",
    "        return batch\n",
    "\n",
    "class blockRNN(nn.Module):\n",
    "    def __init__(self, in_size, hidden_size, out_size, bidirectional, dropout=0):\n",
    "        super(blockRNN, self).__init__()\n",
    "        self.in_size = in_size\n",
    "        self.hidden_size = hidden_size\n",
    "        self.out_size = out_size\n",
    "        self.bidirectional = bidirectional\n",
    "        # layers\n",
    "        self.gru = nn.GRU(in_size, hidden_size, bidirectional=bidirectional)\n",
    "        \n",
    "    def forward(self, batch, add_output=False):\n",
    "        \"\"\"\n",
    "        in array:\n",
    "            batch - [seq_len , batch_size, in_size]\n",
    "        out array:\n",
    "            out - [seq_len , batch_size, out_size]\n",
    "        \"\"\"\n",
    "        batch_size = batch.size(1)\n",
    "        outputs, hidden = self.gru(batch)\n",
    "        out_size = int(outputs.size(2) / 2)\n",
    "        if add_output:\n",
    "            outputs = outputs[:, :, :out_size] + outputs[:, :, out_size:]\n",
    "        return outputs"
   ]
  },
  {
   "cell_type": "code",
   "execution_count": 29,
   "metadata": {},
   "outputs": [],
   "source": [
    "class CRNN(nn.Module):\n",
    "    def __init__(self, hidden_size: int, \n",
    "                 vocab_size: int, \n",
    "                 bidirectional: bool = True, \n",
    "                 dropout: float = 0.5):\n",
    "        super(CRNN, self).__init__()\n",
    "        self.hidden_size = hidden_size\n",
    "        self.vocab_size = vocab_size\n",
    "        self.bidirectional = bidirectional\n",
    "        # make layers\n",
    "        # convolutions \n",
    "        resnet = resnet18(pretrained=True)\n",
    "        modules = list(resnet.children())[:-3]\n",
    "        self.resnet = nn.Sequential(*modules)\n",
    "\n",
    "        self.cn6 = blockCNN(256, 256, kernel_size=3, padding=1)\n",
    "        # RNN + Linear\n",
    "        self.linear1 = nn.Linear(3584, 256)\n",
    "        self.gru1 = blockRNN(256, hidden_size, hidden_size,\n",
    "                             dropout=dropout, \n",
    "                             bidirectional=bidirectional)\n",
    "        self.gru2 = blockRNN(hidden_size, hidden_size, vocab_size,\n",
    "                             dropout=dropout,\n",
    "                             bidirectional=bidirectional)\n",
    "        self.linear2 = nn.Linear(hidden_size, vocab_size)\n",
    "        # initialize weights\n",
    "        #self.apply(weights_init)\n",
    "        \n",
    "    def forward(self, batch: torch.Tensor):\n",
    "        \"\"\"\n",
    "        ------:size sequence:------\n",
    "        torch.Size([batch_size, 3, 50, 200]) -- IN:\n",
    "        torch.Size([batch_size, 32, 6, 25]) -- CNN blocks ended\n",
    "        torch.Size([batch_size, 25, 32, 6]) -- permuted \n",
    "        torch.Size([batch_size, 25, 192]) -- Linear #1\n",
    "        torch.Size([batch_size, 20, 32]) -- IN GRU \n",
    "        torch.Size([batch_size, 20, 256]) -- OUT GRU \n",
    "        torch.Size([batch_size, 20, vocab_size]) -- Linear #2\n",
    "        torch.Size([20, batch_size, vocab_size]) -- :OUT\n",
    "        \"\"\"\n",
    "        batch_size = batch.size(0)\n",
    "        # convolutions\n",
    "        batch = self.resnet(batch)\n",
    "        batch = self.cn6(batch, use_relu=True, use_bn=True)\n",
    "        # change view of tensor + linear\n",
    "        batch = batch.permute(0, 3, 1, 2)\n",
    "        n_channels = batch.size(1)\n",
    "        #print(batch.size())\n",
    "        batch = batch.view(batch_size, n_channels, -1)\n",
    "        #print(batch.size())\n",
    "        batch = self.linear1(batch)\n",
    "        # rnn layers\n",
    "        batch = self.gru1(batch, add_output=False)\n",
    "        batch = self.gru2(batch)\n",
    "        # output\n",
    "        batch = self.linear2(batch)\n",
    "        batch = batch.permute(1, 0, 2)\n",
    "        return batch"
   ]
  },
  {
   "cell_type": "markdown",
   "metadata": {},
   "source": [
    "#### <center>  Model Parameters and Initialization"
   ]
  },
  {
   "cell_type": "code",
   "execution_count": 45,
   "metadata": {},
   "outputs": [
    {
     "name": "stdout",
     "output_type": "stream",
     "text": [
      "37\n"
     ]
    }
   ],
   "source": [
    "hidden_size = 256\n",
    "vocab_size = len(alphabet) + 1\n",
    "bidirectional = False\n",
    "dropout = 0.1\n",
    "weight_decay = 1e-5\n",
    "momentum = 0.9\n",
    "clip_norm = 5\n",
    "max_epoch = 150\n",
    "print(vocab_size)"
   ]
  },
  {
   "cell_type": "code",
   "execution_count": 31,
   "metadata": {},
   "outputs": [
    {
     "data": {
      "text/plain": [
       "torch.Size([14, 8, 37])"
      ]
     },
     "execution_count": 31,
     "metadata": {},
     "output_type": "execute_result"
    }
   ],
   "source": [
    "crnn = CRNN(hidden_size=hidden_size, vocab_size=vocab_size, \n",
    "            bidirectional=bidirectional, dropout=dropout).to(device)\n",
    "crnn(imgs.to(device)).shape"
   ]
  },
  {
   "cell_type": "code",
   "execution_count": 32,
   "metadata": {},
   "outputs": [],
   "source": [
    "lr = 0.02\n",
    "optimizer = torch.optim.SGD(crnn.parameters(), lr=lr, nesterov=True, \n",
    "                            weight_decay=weight_decay, momentum=momentum)\n",
    "critertion = nn.CTCLoss(blank=0)\n",
    "scheduler = torch.optim.lr_scheduler.ReduceLROnPlateau(optimizer, verbose=True, patience=5)"
   ]
  },
  {
   "cell_type": "code",
   "execution_count": 33,
   "metadata": {},
   "outputs": [],
   "source": [
    "def validation(model, val_losses, label_converter):\n",
    "    with torch.no_grad():\n",
    "        model.eval()\n",
    "        for batch_img, batch_text in val_dataloader:\n",
    "            logits = crnn(batch_img.to(device))\n",
    "            val_loss = calculate_loss(logits, batch_text, label_converter)\n",
    "            val_losses.append(val_loss.item())\n",
    "    return val_losses"
   ]
  },
  {
   "cell_type": "code",
   "execution_count": 39,
   "metadata": {},
   "outputs": [],
   "source": [
    "def acc_calc(model, dataset, label_converter) -> float:\n",
    "    acc = 0\n",
    "    with torch.no_grad():\n",
    "        model.eval()\n",
    "        for idx in range(len(dataset)):\n",
    "            img, text = dataset[idx]\n",
    "            logits = model(img.unsqueeze(0).to(device))\n",
    "            pred_text = decode_prediction(logits.cpu(), label_converter)\n",
    "            \n",
    "            if pred_text == text:\n",
    "                acc += 1\n",
    "            \n",
    "    return acc / len(dataset)"
   ]
  },
  {
   "cell_type": "code",
   "execution_count": 35,
   "metadata": {},
   "outputs": [],
   "source": [
    "def calculate_loss(logits, texts, label_converter):\n",
    "    # get infomation of prediction\n",
    "    device = logits.device\n",
    "    input_len, batch_size, vocab_size = logits.size()\n",
    "    # encode inputs\n",
    "    logits = logits.log_softmax(2)\n",
    "    encoded_texts, text_lens = label_converter.encode(texts)\n",
    "    logits_lens = torch.full(size=(batch_size,), fill_value=input_len, dtype=torch.int32)\n",
    "    # calculate ctc\n",
    "    loss = critertion(logits, encoded_texts, \n",
    "                      logits_lens.to(device), text_lens)\n",
    "    return loss"
   ]
  },
  {
   "cell_type": "markdown",
   "metadata": {},
   "source": [
    "#### <center> Training"
   ]
  },
  {
   "cell_type": "code",
   "execution_count": 36,
   "metadata": {},
   "outputs": [],
   "source": [
    "epoch = 0"
   ]
  },
  {
   "cell_type": "code",
   "execution_count": 37,
   "metadata": {},
   "outputs": [
    {
     "data": {
      "text/plain": [
       "26"
      ]
     },
     "execution_count": 37,
     "metadata": {},
     "output_type": "execute_result"
    }
   ],
   "source": [
    "train_losses = []\n",
    "val_losses = []\n",
    "val_epoch_len = len(val_dataset) // batch_size\n",
    "val_epoch_len"
   ]
  },
  {
   "cell_type": "code",
   "execution_count": null,
   "metadata": {
    "scrolled": false
   },
   "outputs": [
    {
     "data": {
      "image/png": "[encoded data removed]",
      "text/plain": [
       "<Figure size 576x396 with 1 Axes>"
      ]
     },
     "metadata": {},
     "output_type": "display_data"
    },
    {
     "data": {
      "image/png": "[encoded data removed]",
      "text/plain": [
       "<Figure size 864x432 with 2 Axes>"
      ]
     },
     "metadata": {},
     "output_type": "display_data"
    }
   ],
   "source": [
    "try:\n",
    "    while epoch <= max_epoch:\n",
    "        crnn.train()\n",
    "        for idx, (batch_imgs, batch_text) in enumerate(train_dataloader):\n",
    "            optimizer.zero_grad()\n",
    "            logits = crnn(batch_imgs.to(device))\n",
    "            # calculate loss\n",
    "            train_loss = calculate_loss(logits, batch_text, label_converter)\n",
    "            if np.isnan(train_loss.detach().cpu().numpy()):\n",
    "                continue\n",
    "            train_losses.append(train_loss.item())\n",
    "            # make backward\n",
    "            train_loss.backward()\n",
    "\n",
    "            nn.utils.clip_grad_norm_(crnn.parameters(), clip_norm)\n",
    "            optimizer.step()\n",
    "            \n",
    "\n",
    "        val_losses = validation(crnn, val_losses, label_converter)\n",
    "        \n",
    "        # printing progress\n",
    "        plot_loss(epoch, train_losses, val_losses)\n",
    "        print_prediction(crnn, val_dataset)\n",
    "        \n",
    "        scheduler.step(val_losses[-1])\n",
    "        epoch += 1\n",
    "except KeyboardInterrupt:\n",
    "    pass"
   ]
  },
  {
   "cell_type": "code",
   "execution_count": 146,
   "metadata": {},
   "outputs": [
    {
     "data": {
      "image/png": "[encoded data removed]",
      "text/plain": [
       "<Figure size 576x396 with 1 Axes>"
      ]
     },
     "metadata": {},
     "output_type": "display_data"
    }
   ],
   "source": [
    "print_prediction(crnn, val_dataset)"
   ]
  },
  {
   "cell_type": "code",
   "execution_count": 43,
   "metadata": {},
   "outputs": [
    {
     "data": {
      "text/plain": [
       "(0.6635514018691588, 0.7651869158878505)"
      ]
     },
     "execution_count": 43,
     "metadata": {},
     "output_type": "execute_result"
    }
   ],
   "source": [
    "acc_calc(crnn, val_dataset, label_converter), acc_calc(crnn, train_dataset, label_converter)"
   ]
  },
  {
   "cell_type": "code",
   "execution_count": null,
   "metadata": {},
   "outputs": [],
   "source": []
  },
  {
   "cell_type": "code",
   "execution_count": null,
   "metadata": {},
   "outputs": [],
   "source": []
  },
  {
   "cell_type": "code",
   "execution_count": null,
   "metadata": {},
   "outputs": [],
   "source": []
  },
  {
   "cell_type": "code",
   "execution_count": null,
   "metadata": {},
   "outputs": [],
   "source": []
  },
  {
   "cell_type": "code",
   "execution_count": null,
   "metadata": {},
   "outputs": [],
   "source": []
  },
  {
   "cell_type": "code",
   "execution_count": null,
   "metadata": {},
   "outputs": [],
   "source": []
  },
  {
   "cell_type": "code",
   "execution_count": null,
   "metadata": {},
   "outputs": [],
   "source": []
  },
  {
   "cell_type": "code",
   "execution_count": null,
   "metadata": {},
   "outputs": [],
   "source": []
  },
  {
   "cell_type": "code",
   "execution_count": null,
   "metadata": {},
   "outputs": [],
   "source": []
  }
 ],
 "metadata": {
  "kernelspec": {
   "display_name": "Python 3",
   "language": "python",
   "name": "python3"
  },
  "language_info": {
   "codemirror_mode": {
    "name": "ipython",
    "version": 3
   },
   "file_extension": ".py",
   "mimetype": "text/x-python",
   "name": "python",
   "nbconvert_exporter": "python",
   "pygments_lexer": "ipython3",
   "version": "3.7.1"
  }
 },
 "nbformat": 4,
 "nbformat_minor": 2
}
